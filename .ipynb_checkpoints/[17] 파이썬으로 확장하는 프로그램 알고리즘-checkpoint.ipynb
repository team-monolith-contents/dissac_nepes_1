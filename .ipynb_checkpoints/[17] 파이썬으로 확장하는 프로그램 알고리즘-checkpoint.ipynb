{
 "cells": [
  {
   "cell_type": "markdown",
   "id": "ecd78426-2260-4c15-9c72-c84484fa1f40",
   "metadata": {
    "tags": []
   },
   "source": [
    "<div style=\"padding: 15px; border: 5px solid transparent; border-color: transparent; margin-bottom: 20px; border-radius: 4px; color: #3c763d; background-color: #dff0d8; border-color: #d6e9c6; font-weight: bold;\">\n",
    "    <br><br>\n",
    "    <div style=\"font-weight: bold; font-size: 40px\">파이썬으로 확장하는 프로그램 알고리즘</div>\n",
    "    <div style=\"font-weight: bold; font-size: 20px\">[17] 파이썬 해커톤-1</div>\n",
    "    <hr style=\"width:80%;text-align:left;margin-left:0;border:0.5px solid green\">\n",
    "    <br>\n",
    "    &#x2022; 기본 입출력부터 모듈의 사용까지 파이썬 기초 문법을 이해할 수 있다. <br>\n",
    "    &#x2022; 파이썬 기초 문법을 활용하여 다양한 파이썬 문제를 해결할 수 있다.<br>\n",
    "</div>"
   ]
  },
  {
   "cell_type": "markdown",
   "id": "971aeea0-55c0-4536-8aeb-979941d00b5d",
   "metadata": {
    "deletable": false,
    "editable": false,
    "tags": []
   },
   "source": [
    "<div style=\"padding: 15px; border: 5px solid transparent; border-color: transparent; margin-bottom: 20px; border-radius: 4px; color: #3c763d; border-color: #d6e9c6; font-weight: bold;\">\n",
    "<h2 style='font-weight: bold'>1. 기본 입출력과 변수</h2>\n",
    "</div> "
   ]
  },
  {
   "cell_type": "markdown",
   "id": "bb22c8ed-9169-474f-b3bc-1e50a5a79e4e",
   "metadata": {
    "tags": []
   },
   "source": [
    "<div style=\"padding: 15px; border: 5px solid transparent; border-color: transparent; margin-bottom: 20px; border-radius: 4px; color: #8a6d3b;  border-color: #faebcc;\">\n",
    "    <div style=\"font-weight: bold; font-size: 20px\">💯 연습문제를 풀어봅시다</div>\n",
    "    <br>\n",
    "    <a class=\"jcecodle-mk jcecodle-mk__problem-chip\" data-problem-id=\"183\" href='#jce-judge/open/183' target='_self'><span>입력과 출력 4</span></a>\n",
    "    <a class=\"jcecodle-mk jcecodle-mk__problem-chip\" data-problem-id=\"188\" href='#jce-judge/open/188' target='_self'><span>입력과 출력 9</span></a>\n",
    "    <a class=\"jcecodle-mk jcecodle-mk__problem-chip\" data-problem-id=\"189\" href='#jce-judge/open/189' target='_self'><span>입력과 출력 10</span></a>\n",
    "    <a class=\"jcecodle-mk jcecodle-mk__problem-chip\" data-problem-id=\"yEygssGfFLg\" href='#jce-judge/open/yEygssGfFLg' target='_self'><span>큰 따옴표를 포함한 문자열 출력</span></a>\n",
    "</div>"
   ]
  },
  {
   "cell_type": "markdown",
   "id": "724a7348-21d8-4b28-8016-7d55128a51a3",
   "metadata": {
    "deletable": false,
    "editable": false,
    "tags": []
   },
   "source": [
    "<div style=\"padding: 15px; border: 5px solid transparent; border-color: transparent; margin-bottom: 20px; border-radius: 4px; color: #3c763d; border-color: #d6e9c6; font-weight: bold;\">\n",
    "<h2 style='font-weight: bold'>2. 리스트</h2>\n",
    "</div> "
   ]
  },
  {
   "cell_type": "markdown",
   "id": "2aa444d8-2058-4457-ba0a-9af691f472ad",
   "metadata": {
    "tags": []
   },
   "source": [
    "<div style=\"padding: 15px; border: 5px solid transparent; border-color: transparent; margin-bottom: 20px; border-radius: 4px; color: #8a6d3b;  border-color: #faebcc;\">\n",
    "    <div style=\"font-weight: bold; font-size: 20px\">💯 연습문제를 풀어봅시다</div>\n",
    "    <br>\n",
    "    <a class=\"jcecodle-mk jcecodle-mk__problem-chip\" data-problem-id=\"209\" href='#jce-judge/open/209' target='_self'><span>List 기본 문제 1</span></a>\n",
    "    <a class=\"jcecodle-mk jcecodle-mk__problem-chip\" data-problem-id=\"xyJ3ZdccCDQ\" href='#jce-judge/open/xyJ3ZdccCDQ' target='_self'><span>리스트 요소</span></a>\n",
    "    <a class=\"jcecodle-mk jcecodle-mk__problem-chip\" data-problem-id=\"FyJTmZIYRWI\" href='#jce-judge/open/FyJTmZIYRWI' target='_self'><span>리스트 뒤집기</span></a>\n",
    "    <a class=\"jcecodle-mk jcecodle-mk__problem-chip\" data-problem-id=\"nfLXO300pZk\" href='#jce-judge/open/nfLXO300pZk' target='_self'><span>리스트 값 수정1</span></a>\n",
    "</div>"
   ]
  },
  {
   "cell_type": "markdown",
   "id": "085db2c1-b8ae-49e5-8016-d5c457197a37",
   "metadata": {
    "deletable": false,
    "editable": false,
    "tags": []
   },
   "source": [
    "<div style=\"padding: 15px; border: 5px solid transparent; border-color: transparent; margin-bottom: 20px; border-radius: 4px; color: #3c763d; border-color: #d6e9c6; font-weight: bold;\">\n",
    "<h2 style='font-weight: bold'>3. 조건문</h2>\n",
    "</div> "
   ]
  },
  {
   "cell_type": "markdown",
   "id": "419f8978-96a1-469e-8da5-3990e5517775",
   "metadata": {
    "tags": []
   },
   "source": [
    "<div style=\"padding: 15px; border: 5px solid transparent; border-color: transparent; margin-bottom: 20px; border-radius: 4px; color: #8a6d3b;  border-color: #faebcc;\">\n",
    "    <div style=\"font-weight: bold; font-size: 20px\">💯 연습문제를 풀어봅시다</div>\n",
    "    <br>\n",
    "    <a class=\"jcecodle-mk jcecodle-mk__problem-chip\" data-problem-id=\"LON4taNs-_g\" href='#jce-judge/open/LON4taNs-_g' target='_self'><span>절댓값 찾기1</span></a>\n",
    "    <a class=\"jcecodle-mk jcecodle-mk__problem-chip\" data-problem-id=\"pIFJ5MdnuSA\" href='#jce-judge/open/pIFJ5MdnuSA' target='_self'><span>간단한 조건문</span></a>\n",
    "    <a class=\"jcecodle-mk jcecodle-mk__problem-chip\" data-problem-id=\"apet6B_EgNY\" href='#jce-judge/open/apet6B_EgNY' target='_self'><span>성인여부와 성별</span></a>\n",
    "    <a class=\"jcecodle-mk jcecodle-mk__problem-chip\" data-problem-id=\"uhtSUIVNBXY\" href='#jce-judge/open/uhtSUIVNBXY' target='_self'><span>투자 경고 판단하기</span></a>\n",
    "</div>"
   ]
  },
  {
   "cell_type": "markdown",
   "id": "3b60b2b1-bb1c-4bb1-953b-ad2c120a5823",
   "metadata": {
    "deletable": false,
    "editable": false,
    "tags": []
   },
   "source": [
    "<div style=\"padding: 15px; border: 5px solid transparent; border-color: transparent; margin-bottom: 20px; border-radius: 4px; color: #3c763d; border-color: #d6e9c6; font-weight: bold;\">\n",
    "<h2 style='font-weight: bold'>4. 반복문</h2>\n",
    "</div> "
   ]
  },
  {
   "cell_type": "markdown",
   "id": "b7018c5f-b459-4230-9613-68ce04cec437",
   "metadata": {
    "tags": []
   },
   "source": [
    "<div style=\"padding: 15px; border: 5px solid transparent; border-color: transparent; margin-bottom: 20px; border-radius: 4px; color: #8a6d3b;  border-color: #faebcc;\">\n",
    "    <div style=\"font-weight: bold; font-size: 20px\">💯 연습문제를 풀어봅시다</div>\n",
    "    <br>\n",
    "    <a class=\"jcecodle-mk jcecodle-mk__problem-chip\" data-problem-id=\"135\" href='#jce-judge/open/135' target='_self'><span>0이 입력될때까지 출력하기</span></a>\n",
    "    <a class=\"jcecodle-mk jcecodle-mk__problem-chip\" data-problem-id=\"148\" href='#jce-judge/open/148' target='_self'><span>알파벳 출력하기2</span></a>\n",
    "    <a class=\"jcecodle-mk jcecodle-mk__problem-chip\" data-problem-id=\"W7WDf2X5Dvs\" href='#jce-judge/open/W7WDf2X5Dvs' target='_self'><span>홀수와 짝수1</span></a>\n",
    "    <a class=\"jcecodle-mk jcecodle-mk__problem-chip\" data-problem-id=\"eL41en1SNus\" href='#jce-judge/open/eL41en1SNus' target='_self'><span>온점의 개수</span></a>\n",
    "    <a class=\"jcecodle-mk jcecodle-mk__problem-chip\" data-problem-id=\"KcDVh1s9VRw\" href='#jce-judge/open/KcDVh1s9VRw' target='_self'><span>자릿수 더하기</span></a>\n",
    "    <a class=\"jcecodle-mk jcecodle-mk__problem-chip\" data-problem-id=\"UvMluh_PqFI\" href='#jce-judge/open/UvMluh_PqFI' target='_self'><span>강아지 찾기</span></a>\n",
    "</div>"
   ]
  },
  {
   "cell_type": "markdown",
   "id": "8db07426-16cb-481a-aad3-cf6da05d80a1",
   "metadata": {
    "deletable": false,
    "editable": false,
    "tags": []
   },
   "source": [
    "<div style=\"padding: 15px; border: 5px solid transparent; border-color: transparent; margin-bottom: 20px; border-radius: 4px; color: #3c763d; border-color: #d6e9c6; font-weight: bold;\">\n",
    "<h2 style='font-weight: bold'>5. 함수</h2>\n",
    "</div> "
   ]
  },
  {
   "cell_type": "markdown",
   "id": "8a0478f7-dff4-4de5-97c7-1075b1484729",
   "metadata": {
    "tags": []
   },
   "source": [
    "<div style=\"padding: 15px; border: 5px solid transparent; border-color: transparent; margin-bottom: 20px; border-radius: 4px; color: #8a6d3b;  border-color: #faebcc;\">\n",
    "    <div style=\"font-weight: bold; font-size: 20px\">💯 연습문제를 풀어봅시다</div>\n",
    "    <br>\n",
    "    <a class=\"jcecodle-mk jcecodle-mk__problem-chip\" data-problem-id=\"JTphmxt7byE\" href='#jce-judge/open/JTphmxt7byE' target='_self'><span>최댓값 함수 만들기</span></a>\n",
    "    <a class=\"jcecodle-mk jcecodle-mk__problem-chip\" data-problem-id=\"oxuTmiMIc8Y\" href='#jce-judge/open/oxuTmiMIc8Y' target='_self'><span>제곱의 차 구하는 함수 만들기</span></a>\n",
    "    <a class=\"jcecodle-mk jcecodle-mk__problem-chip\" data-problem-id=\"zc9UnkgcyJY\" href='#jce-judge/open/zc9UnkgcyJY' target='_self'><span>swap(함수)</span></a>\n",
    "</div>"
   ]
  },
  {
   "cell_type": "markdown",
   "id": "dcd52ba8-5ae2-4681-8441-894af3ed045a",
   "metadata": {
    "deletable": false,
    "editable": false,
    "tags": []
   },
   "source": [
    "<div style=\"padding: 15px; border: 5px solid transparent; border-color: transparent; margin-bottom: 20px; border-radius: 4px; color: #3c763d; border-color: #d6e9c6; font-weight: bold;\">\n",
    "<h2 style='font-weight: bold'>6. 모듈</h2>\n",
    "</div> "
   ]
  },
  {
   "cell_type": "markdown",
   "id": "fc78e249-d21d-400d-b28a-c7d8e2bdfa4e",
   "metadata": {
    "tags": []
   },
   "source": [
    "<div style=\"padding: 15px; border: 5px solid transparent; border-color: transparent; margin-bottom: 20px; border-radius: 4px; color: #8a6d3b;  border-color: #faebcc;\">\n",
    "    <div style=\"font-weight: bold; font-size: 20px\">💯 연습문제를 풀어봅시다</div>\n",
    "    <br>\n",
    "    <a class=\"jcecodle-mk jcecodle-mk__problem-chip\" data-problem-id=\"ERQ39M8tZes\" href='#jce-judge/open/ERQ39M8tZes' target='_self'><span>파이 출력하기_빈칸</span></a>\n",
    "    <a class=\"jcecodle-mk jcecodle-mk__problem-chip\" data-problem-id=\"sORBgEZdDl8\" href='#jce-judge/open/sORBgEZdDl8' target='_self'><span>거듭제곱1_빈칸</span></a>\n",
    "</div>"
   ]
  }
 ],
 "metadata": {
  "kernelspec": {
   "display_name": "Python 3 (ipykernel)",
   "language": "python",
   "name": "python3"
  },
  "language_info": {
   "codemirror_mode": {
    "name": "ipython",
    "version": 3
   },
   "file_extension": ".py",
   "mimetype": "text/x-python",
   "name": "python",
   "nbconvert_exporter": "python",
   "pygments_lexer": "ipython3",
   "version": "3.11.3"
  },
  "read_only": true
 },
 "nbformat": 4,
 "nbformat_minor": 5
}
