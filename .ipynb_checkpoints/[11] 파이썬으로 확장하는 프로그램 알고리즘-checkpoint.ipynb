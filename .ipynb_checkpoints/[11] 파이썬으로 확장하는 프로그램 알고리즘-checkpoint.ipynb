{
 "cells": [
  {
   "cell_type": "markdown",
   "id": "36ef90ae-45d6-4a44-b8c0-8eb90bdf6ae3",
   "metadata": {
    "slideshow": {
     "slide_type": "slide"
    },
    "tags": []
   },
   "source": [
    "<div style=\"padding: 15px; border: 5px solid transparent; border-color: transparent; margin-bottom: 20px; border-radius: 4px; color: #3c763d; background-color: #dff0d8; border-color: #d6e9c6; font-weight: bold;\">\n",
    "    <br><br>\n",
    "    <div style=\"font-weight: bold; font-size: 40px\">파이썬으로 확장하는 프로그램 알고리즘</div>\n",
    "    <div style=\"font-weight: bold; font-size: 20px\">[11] 키 정렬하기</div>\n",
    "    <hr style=\"width:80%;text-align:left;margin-left:0;border:0.5px solid green\">\n",
    "    <br>\n",
    "    &#x2022; Bubble Sort 알고리즘을 이해한다.<br>\n",
    "    &#x2022; Bubble Sort 알고리즘을 파이썬으로 구현하여 문제를 해결한다.<br>\n",
    "</div>"
   ]
  },
  {
   "cell_type": "markdown",
   "id": "79f6a758-b266-4af9-b540-b39499a867b1",
   "metadata": {
    "tags": []
   },
   "source": [
    "고등학교 3학년인 철수, 영희, 동휘, 민수, 진호는 졸업을 앞두고 5명이서 졸업 기념 스냅을 찍기로 했습니다.    \n",
    "스냅 사진을 찍던 중, 철수는 아이디어를 내서 키 순으로 선 뒤에 사진을 찍자고 제안했습니다.    \n",
    "\n",
    "철수의 재밌는 아이디어에 동의한 친구들은 키 순서대로 서서 사진을 찍어보려고 했지만... 문제가 하나 생겼습니다.    \n",
    "철수는 어떻게 하면 친구들을 키 순서대로 효율적으로 배치할 수 있을지 고민이 됐습니다.     \n",
    "\"어떻게 하면 이들을 효율적으로 키 순서대로 배치해줄 수 있을까?\"  \n",
    "철수가 친구들을 효율적으로 정렬할 수 있도록 도와줍시다!"
   ]
  },
  {
   "cell_type": "markdown",
   "id": "71f59e9d-24fb-4a9d-97bc-13db87341d61",
   "metadata": {
    "slideshow": {
     "slide_type": "slide"
    },
    "tags": []
   },
   "source": [
    "<div style=\"padding: 15px; border: 5px solid transparent; border-color: transparent; margin-bottom: 20px; border-radius: 4px; color: #3c763d; border-color: #d6e9c6; font-weight: bold;\">\n",
    "<h2 style='font-weight: bold'>1. 정렬이란?</h2>\n",
    "</div> "
   ]
  },
  {
   "cell_type": "markdown",
   "id": "3f54087b-7687-4cf9-acfa-249622de01f4",
   "metadata": {
    "jp-MarkdownHeadingCollapsed": true,
    "tags": []
   },
   "source": [
    "철수의 친구들은 다음과 같은 키를 가지고 있습니다.\n",
    "\n",
    "|키|이름|\n",
    "|--|---|\n",
    "|185 | 철수|\n",
    "|165 | 영희|\n",
    "|180 | 동휘|\n",
    "|175 | 민수|\n",
    "|170 | 진호|\n",
    "\n",
    "사진을 찍기 위해서는 이들을 키의 오름차순으로 정렬해야 합니다. 즉, 친구들을 키 순서대로 정렬한 결과가 앞에서부터 165, 170, 175, 180, 185가 되어야 합니다.  \n",
    "165, 170, 175, 180, 185가 임의의 순서로 주어졌을 때, 우리는 올바르게 정렬하기 위해 주어진 순서를 오름차순으로 바꿔주어야 합니다.   \n",
    "\n",
    "이렇듯이 n개의 숫자가 주어졌을 때, 이를 주어진 기준에 맞게 재배열하는 과정을 **정렬**이라고 합니다.  "
   ]
  },
  {
   "cell_type": "markdown",
   "id": "b32f251f-3d70-4384-b1dc-76070ebf5c0e",
   "metadata": {
    "jp-MarkdownHeadingCollapsed": true,
    "tags": []
   },
   "source": [
    "그렇다면 정렬은 어떤 식으로 이루어져야 할까요? 컴퓨터과학에서는 정말 다양한 정렬 알고리즘이 연구되었고, 오늘은 그 중 기초적인 알고리즘을 하나를 배워보겠습니다.    \n",
    "알고리즘의 이름은 **버블 정렬**이라고 합니다.  \n",
    "\n",
    "버블 정렬은 어떤식으로 이루어질까요? 예시를 통해 알아보도록 합시다."
   ]
  },
  {
   "attachments": {
    "b925b5ff-ffae-4c69-a4b7-40b719723ea6.png": {
     "image/png": "[encoded data removed]"
    },
    "df3cd9ff-136e-48fc-a00f-d2120aeba568.png": {
     "image/png": "[encoded data removed]"
    }
   },
   "cell_type": "markdown",
   "id": "9242c568-ec06-4e36-9d2f-85637bb52d75",
   "metadata": {
    "jp-MarkdownHeadingCollapsed": true,
    "tags": []
   },
   "source": [
    "먼저 아래 그림과 같이 `[2, 5, 3, 4, 1]`가 초기 리스트로 주어졌다고 해봅시다.  \n",
    "우리가 바라는 결과는 `[1, 2, 3, 4, 5]`입니다. 올바른 결과를 위해서는 어떻게 정렬을 시도해야 할까요?  \n",
    "\n",
    "![image.png](attachment:b925b5ff-ffae-4c69-a4b7-40b719723ea6.png)\n",
    "\n",
    "버블소트는 첫 번째 원소와 두 번째 원소를 비교하는 것으로 시작합니다.  \n",
    "비교한 후에는 더 큰 원소를 뒤에 놓습니다.   \n",
    "우리가 정렬하려는 리스트의 첫번째 두번째 원소는 2와 5입니다. 이 경우 2보다 5가 크기 때문에 더 큰 원소인 5를 뒤에 놓으려면 위치를 바꾸면 안됩니다.  \n",
    "아래는 첫 비교 후 결과입니다.   \n",
    "```\n",
    "2 5 3 4 1 (2와 5의 위치 변경 X)\n",
    "```\n",
    "그 다음도 첫 비교와 마찬가지로 두번째 원소와 세번째 원소를 비교하여 더 큰 원소를 뒤에 놓습니다.    \n",
    "이렇게 같은 과정을 모든 원소를 다 비교할 때까지 반복하면 됩니다.(우리는 아직 배우는 과정이니 끝까지 같이 해봐요^^)  \n",
    "여기서는 5가 3보다 크니 위치를 바꿉니다.     \n",
    "```\n",
    "2 3 5 4 1 (3과 5의 위치 변경)\n",
    "```\n",
    "그 다음, 세번째 원소와 네번째 원소를 비교하여 더 큰 원소를 뒤에 놓습니다.   \n",
    "여기서는 5가 4보다 크니 위치를 바꿉니다.  \n",
    "```\n",
    "2 3 4 5 1 (5와 4의 위치 변경)\n",
    "```\n",
    "그 다음, 네번째 원소와 다섯번째 원소를 비교하여 더 큰 원소를 뒤에 놓습니다.   \n",
    "여기서는 5가 1보다 크니 위치를 바꿉니다.  \n",
    "\n",
    "```\n",
    "2 3 4 1 5 (5와 4의 위치 변경)\n",
    "```\n",
    "\n",
    "이게 버블 소트의 첫 단계입니다.  \n",
    "최종 결과를 보면 가장 큰 수인 5가 리스트의 가장 오른편으로 이동했습니다.   \n",
    "이렇듯 버블소트는 한 단계가 진행될 때마다 가장 큰 수가 리스트의 끝으로 이동합니다.   \n",
    "\n",
    "\n",
    "만약 이를 5를 제외한 `[2, 3, 4, 1]`에 똑같이 적용하면 어떻게 될까요? 제일 큰 수인 4가 리스트의 끝으로 이동하겠죠?  \n",
    "\n",
    "버블소트는 이 점을 이용합니다. 배열의 크기를 하나씩 줄여가며 각 단계를 반복 진행합니다.  \n",
    "\n",
    "![image.png](attachment:df3cd9ff-136e-48fc-a00f-d2120aeba568.png)\n"
   ]
  },
  {
   "cell_type": "markdown",
   "id": "d11900c9-468a-432e-92a1-5bd592ddf398",
   "metadata": {
    "jp-MarkdownHeadingCollapsed": true,
    "tags": []
   },
   "source": [
    "눈치챈 학생도 있겠지만, 각 원소가 리스트를 타고 올라가는 것 같은 모습이 마치 물속의 공기방울처럼 보여서 **버블소트**라고 말합니다.  \n",
    "자, 이제 버블소트의 작동법을 알았으니 이를 파이썬에서 구현해볼까요?  "
   ]
  },
  {
   "cell_type": "markdown",
   "id": "dcf47ac9-e3e3-4e6f-911a-d32d906ae7d4",
   "metadata": {
    "slideshow": {
     "slide_type": "slide"
    },
    "tags": []
   },
   "source": [
    "<div style=\"padding: 15px; border: 5px solid transparent; border-color: transparent; margin-bottom: 20px; border-radius: 4px; color: #3c763d; border-color: #d6e9c6; font-weight: bold;\">\n",
    "<h2 style='font-weight: bold'>2. 정렬 구현하기</h2>\n",
    "</div> "
   ]
  },
  {
   "cell_type": "markdown",
   "id": "79c01b5b-9e62-4412-8fc3-f199274048c5",
   "metadata": {
    "tags": []
   },
   "source": [
    "### 원소 자리 바꾸기"
   ]
  },
  {
   "cell_type": "markdown",
   "id": "5535ce88-abe3-4b39-baed-3ff9622dfb28",
   "metadata": {
    "tags": []
   },
   "source": [
    "먼저 원소끼리 자리를 바꾸는 방법을 알아봅시다. 다음과 같이 배열이 주어졌을 때, 첫번째 원소와 두번째 원소의 자리를 바꾼 리스트를 출력할 수 있나요?\n",
    "```python\n",
    "a = [1, 2]\n",
    "```"
   ]
  },
  {
   "cell_type": "markdown",
   "id": "83bbf0fa-4da3-47cd-af59-1aee4e1cf2fc",
   "metadata": {
    "tags": []
   },
   "source": [
    "흔히 하는 실수 중 하나는 다음과 같이 바로 대입을 해주는 거에요.\n",
    "```python\n",
    "a[0] = a[1] # a = [2, 2]\n",
    "```\n",
    "하지만 이러면 배열의 첫번째 원소가 아예 덮어씌워지기 때문에 기존 a[0] 값이 소실되어 자리를 바꿀 수 없게 됩니다.  \n",
    "하지만 다음과 같이 a[0]값을 저장할 수 있는 빈 공간을 하나 만든다면 어떨까요?   \n",
    "```python\n",
    "t = a[0]\n",
    "```\n",
    "다시 위의 코드를 실행해도 여전히 a[0]이 t라는 변수에 남아있기 때문에 이를 두번째 원소에 대입하면 자리가 변경될 수 있습니다.  \n",
    "\n",
    "\n",
    "정리하자면, 원소를 바꾸는 방법은 다음과 같이 진행됩니다.\n",
    "1. 첫번째 원소를 임시 변수에 대입한다. (주로 temporary의 약자인 t나 tmp로 변수명을 둡니다.)\n",
    "2. 첫번째 원소에 두번째 원소를 대입한다.\n",
    "3. 두번째 원소에 임시 변수를 대입한다.\n",
    "\n",
    "이제 원리를 알았으니 코드로 구현해볼까요?"
   ]
  },
  {
   "cell_type": "code",
   "execution_count": 2,
   "id": "bb934f13-7984-401e-8eff-ef98a34a57e8",
   "metadata": {
    "tags": []
   },
   "outputs": [
    {
     "name": "stdout",
     "output_type": "stream",
     "text": [
      "[2, 1]\n"
     ]
    }
   ],
   "source": [
    "a = [1, 2]\n",
    "\n",
    "t = a[0]\n",
    "a[0] = a[1]\n",
    "a[1] = t\n",
    "\n",
    "print(a)"
   ]
  },
  {
   "cell_type": "markdown",
   "id": "106f5368-449f-4ea7-a332-93e6e7890b76",
   "metadata": {
    "tags": []
   },
   "source": [
    "### 단계 하나 구현하기"
   ]
  },
  {
   "cell_type": "markdown",
   "id": "86381b3c-eb74-4755-813a-83b93cea2ed1",
   "metadata": {
    "tags": []
   },
   "source": [
    "이제 자리를 바꿀 수 있으니, 버블소트의 단계 하나를 구현해보겠습니다. 앞에 나와있듯이, 버블소트는 다음과 같이 수를 정렬합니다.  \n",
    "1. 첫번째와 두번째 원소 중 더큰 원소를 뒤에 놓습니다.\n",
    "    * 첫번째 원소보다 두번째 원소가 크다면, 원소를 바꾸지 않고\n",
    "    * 작다면, 첫번째 원소와 두번째 원소의 자리를 바꿔주세요.\n",
    "2. 이를 두번째와 세번째, 세번째와 네번째... 등등 마지막 원소까지 진행합니다."
   ]
  },
  {
   "cell_type": "code",
   "execution_count": 3,
   "id": "f997dda6-b6b4-4654-a7ab-286dc9e2ce4a",
   "metadata": {
    "tags": []
   },
   "outputs": [
    {
     "name": "stdout",
     "output_type": "stream",
     "text": [
      "[2, 3, 4, 1, 5]\n"
     ]
    }
   ],
   "source": [
    "arr = [2, 5, 3, 4, 1]\n",
    "\n",
    "for i in range(len(arr) - 1): #1-2, 2-3, 3-4, 4-5를 비교해야 하기 때문에 비교 횟수는 4번밖에 안됩니다. 따라서 반복 횟수는 '리스트 길이-1' 입니다. \n",
    "    if (arr[i] > arr[i + 1]):\n",
    "        t = arr[i + 1]\n",
    "        arr[i + 1] = arr[i]\n",
    "        arr[i] = t\n",
    "\n",
    "print(arr)"
   ]
  },
  {
   "cell_type": "markdown",
   "id": "7ddb5f4e-a409-4d00-8211-67318e17d5da",
   "metadata": {
    "tags": []
   },
   "source": [
    "### 버블 소트 구현하기"
   ]
  },
  {
   "cell_type": "markdown",
   "id": "2bb13c68-1ff0-459d-a0c4-8b0a0b431ca5",
   "metadata": {
    "tags": []
   },
   "source": [
    "이제 버블소트의 전체 단계를 구현해봅시다. 앞에 나와있듯이, 버블소트는 다음처럼 진행됩니다.  \n",
    "- 첫번째부터 마지막번째의 원소에 대해 한 단계를 진행합니다.\n",
    "    * 이중 가장 큰 원소가 마지막번째에 옵니다.\n",
    "- 첫번째부터 마지막-1 번째의 원소에 대해 한 단계를 진행합니다.\n",
    "    * 이 중 가장 큰 원소가 마지막-1번째에 옵니다.\n",
    "...\n",
    "- 첫번째부터 두번째의 원소에 대해 한 단계를 진행합니다.\n"
   ]
  },
  {
   "cell_type": "code",
   "execution_count": 4,
   "id": "a99829f1-f58c-4753-b057-b83d480f3a0e",
   "metadata": {
    "tags": []
   },
   "outputs": [
    {
     "name": "stdout",
     "output_type": "stream",
     "text": [
      "[1, 2, 3, 4, 5]\n"
     ]
    }
   ],
   "source": [
    "arr = [3, 2, 4, 1, 5]\n",
    "'''\n",
    "1-2  2-3  3-4  4-5\n",
    "1-2  2-3  3-4\n",
    "1-2  2-3\n",
    "1-2\n",
    "이 순서로 진행된다는 것을 생각하면 어렵지 않게 반복문을 작성할 수 있습니다. \n",
    "행과 열의 개수로 생각해보면, 행이 4개이고 열이 4개에서 하나씩 줄어들죠?\n",
    "참고록 이중 for문에서 바깥쪽 for문은 행을, 안쪽 for문은 열을 의미합니다. \n",
    "'''\n",
    "\n",
    "for i in range(len(arr), 0, -1): # 행이 4개이므로 일단 4번 반복을 해줍니다. i를 활용해서 열을 설정해야 하는데, 열의 개수는 점점 줄어들기 때문에, i도 점점 줄어들도록 설정해줍니다. \n",
    "    for j in range(0, i - 1): # i는 5, 4, 3, 2의 순으로 변경됩니다. 우리가 설정하려는 열은 각 행마다 4, 3, 2, 1개이기 때문에 i-1 만큼 반복되도록 해줍니다.\n",
    "        if (arr[j] > arr[j + 1]):\n",
    "            t = arr[j + 1]\n",
    "            arr[j + 1] = arr[j]\n",
    "            arr[j] = t\n",
    "\n",
    "print(arr)\n"
   ]
  },
  {
   "cell_type": "markdown",
   "id": "d458e313-7bbe-44cc-8bde-255081a18947",
   "metadata": {
    "tags": []
   },
   "source": [
    "### 문제 풀기"
   ]
  },
  {
   "cell_type": "markdown",
   "id": "bf090f5d-f67e-4699-8a0e-f2cbf1dfffa5",
   "metadata": {
    "tags": []
   },
   "source": [
    "자! 이제 버블 소트를 구현할 수 있으니 철수, 영희, 동휘, 민수, 진호의 키를 임의로 입력받아 정렬해주세요!  "
   ]
  },
  {
   "cell_type": "code",
   "execution_count": 5,
   "id": "b305de1d-1253-441e-84fc-8ee165156bc4",
   "metadata": {},
   "outputs": [
    {
     "name": "stdout",
     "output_type": "stream",
     "text": [
      "[165, 170, 175, 180, 185]\n"
     ]
    }
   ],
   "source": [
    "arr = [175, 180, 185, 165, 170]\n",
    "\n",
    "for i in range(len(arr), 0, -1):\n",
    "    for j in range(0, i - 1):\n",
    "        if (arr[j] > arr[j + 1]):\n",
    "            t = arr[j + 1]\n",
    "            arr[j + 1] = arr[j]\n",
    "            arr[j] = t\n",
    "\n",
    "print(arr)"
   ]
  },
  {
   "cell_type": "markdown",
   "id": "58aeff71-f455-4f0e-b034-12add01f83e0",
   "metadata": {
    "slideshow": {
     "slide_type": "slide"
    },
    "tags": []
   },
   "source": [
    "<div style=\"padding: 15px; border: 5px solid transparent; border-color: transparent; margin-bottom: 20px; border-radius: 4px; color: #3c763d; border-color: #d6e9c6; font-weight: bold;\">\n",
    "<h2 style='font-weight: bold'>3. 사진은..?</h2>\n",
    "</div> "
   ]
  },
  {
   "cell_type": "markdown",
   "id": "4b759408-db41-4757-8738-0b0f3426149f",
   "metadata": {
    "tags": []
   },
   "source": [
    "아래 코드를 실행해서 엔딩을 확인해주세요!\n",
    "* `ending()` 함수에는 각 친구들의 키가 들어있는 리스트가 들어갑니다.\n",
    "    * ex) `ending([165, 175, 170, 185, 180])`\n",
    "* 만약 정렬이 올바르게 안되었을 경우, 진엔딩이 출력되지 않습니다.\n",
    "* 올바르게 정렬을 해서 진엔딩을 봐주세요!\n"
   ]
  },
  {
   "cell_type": "code",
   "execution_count": 6,
   "id": "32bd60e3-2751-473b-960d-019715bc1522",
   "metadata": {},
   "outputs": [
    {
     "name": "stdout",
     "output_type": "stream",
     "text": [
      "좋아 일단 5명은 모였고...\n",
      "철수, 영희, 동휘, 민수, 진호 다 모였네\n",
      "자 그럼 찍는다! 하나...둘..셋!\n",
      "하나 더 찍을게! 하나...둘..셋!\n",
      "고생 많았다 얘들아~ 졸업 축하한다:)\n"
     ]
    },
    {
     "data": {
      "text/plain": [
       "<CodleProject.SortingProject at 0x7fc94e5b5750>"
      ]
     },
     "execution_count": 6,
     "metadata": {},
     "output_type": "execute_result"
    }
   ],
   "source": [
    "from CodleProject import SortingProject\n",
    "\n",
    "SortingProject(arr)"
   ]
  }
 ],
 "metadata": {
  "kernelspec": {
   "display_name": "Python 3 (ipykernel)",
   "language": "python",
   "name": "python3"
  },
  "language_info": {
   "codemirror_mode": {
    "name": "ipython",
    "version": 3
   },
   "file_extension": ".py",
   "mimetype": "text/x-python",
   "name": "python",
   "nbconvert_exporter": "python",
   "pygments_lexer": "ipython3",
   "version": "3.11.3"
  }
 },
 "nbformat": 4,
 "nbformat_minor": 5
}
