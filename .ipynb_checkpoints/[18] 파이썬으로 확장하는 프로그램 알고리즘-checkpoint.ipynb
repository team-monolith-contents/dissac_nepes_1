{
 "cells": [
  {
   "cell_type": "markdown",
   "id": "ecd78426-2260-4c15-9c72-c84484fa1f40",
   "metadata": {
    "tags": []
   },
   "source": [
    "<div style=\"padding: 15px; border: 5px solid transparent; border-color: transparent; margin-bottom: 20px; border-radius: 4px; color: #3c763d; background-color: #dff0d8; border-color: #d6e9c6; font-weight: bold;\">\n",
    "    <br><br>\n",
    "    <div style=\"font-weight: bold; font-size: 40px\">파이썬으로 확장하는 프로그램 알고리즘</div>\n",
    "    <div style=\"font-weight: bold; font-size: 20px\">[18] 파이썬 해커톤-2</div>\n",
    "    <hr style=\"width:80%;text-align:left;margin-left:0;border:0.5px solid green\">\n",
    "    <br>\n",
    "    &#x2022; 기본 입출력부터 모듈의 사용까지 파이썬 기초 문법을 이해할 수 있다. <br>\n",
    "    &#x2022; 파이썬 기초 문법을 활용하여 다양한 파이썬 문제를 해결할 수 있다.<br>\n",
    "</div>"
   ]
  },
  {
   "cell_type": "markdown",
   "id": "971aeea0-55c0-4536-8aeb-979941d00b5d",
   "metadata": {
    "deletable": false,
    "editable": false,
    "tags": []
   },
   "source": [
    "<div style=\"padding: 15px; border: 5px solid transparent; border-color: transparent; margin-bottom: 20px; border-radius: 4px; color: #3c763d; border-color: #d6e9c6; font-weight: bold;\">\n",
    "<h2 style='font-weight: bold'>1. 기본 입출력과 변수</h2>\n",
    "</div> "
   ]
  },
  {
   "cell_type": "markdown",
   "id": "bb22c8ed-9169-474f-b3bc-1e50a5a79e4e",
   "metadata": {
    "tags": []
   },
   "source": [
    "<div style=\"padding: 15px; border: 5px solid transparent; border-color: transparent; margin-bottom: 20px; border-radius: 4px; color: #8a6d3b;  border-color: #faebcc;\">\n",
    "    <div style=\"font-weight: bold; font-size: 20px\">💯 연습문제를 풀어봅시다</div>\n",
    "    <br>\n",
    "    <a class=\"jcecodle-mk jcecodle-mk__problem-chip\" data-problem-id=\"138\" href='#jce-judge/open/138' target='_self'><span>주민번호 분리하기</span></a>\n",
    "    <a class=\"jcecodle-mk jcecodle-mk__problem-chip\" data-problem-id=\"kNlmiYfjjvA\" href='#jce-judge/open/kNlmiYfjjvA' target='_self'><span>문자열 n번 출력하기</span></a>\n",
    "    <a class=\"jcecodle-mk jcecodle-mk__problem-chip\" data-problem-id=\"145\" href='#jce-judge/open/145' target='_self'><span>덧셈1</span></a>\n",
    "    <a class=\"jcecodle-mk jcecodle-mk__problem-chip\" data-problem-id=\"G9z1Cj-fs24\" href='#jce-judge/open/G9z1Cj-fs24' target='_self'><span>할인 비율 알아보기</span></a>\n",
    "</div>"
   ]
  },
  {
   "cell_type": "markdown",
   "id": "43893565-f098-4d34-b534-777a6d0a3289",
   "metadata": {
    "editable": false,
    "tags": []
   },
   "source": [
    "<div style=\"padding: 15px; border: 5px solid transparent; border-color: transparent; margin-bottom: 20px; border-radius: 4px; color: #3c763d; border-color: #d6e9c6; font-weight: bold;\">\n",
    "<h2 style='font-weight: bold'>2. 리스트</h2>\n",
    "</div> "
   ]
  },
  {
   "cell_type": "markdown",
   "id": "b46a5660-8e1a-4d88-91a3-1129741bc07a",
   "metadata": {
    "tags": []
   },
   "source": [
    "<div style=\"padding: 15px; border: 5px solid transparent; border-color: transparent; margin-bottom: 20px; border-radius: 4px; color: #8a6d3b;  border-color: #faebcc;\">\n",
    "    <div style=\"font-weight: bold; font-size: 20px\">💯 연습문제를 풀어봅시다</div>\n",
    "    <br>\n",
    "    <a class=\"jcecodle-mk jcecodle-mk__problem-chip\" data-problem-id=\"EU_b0eQHdI4\" href='#jce-judge/open/EU_b0eQHdI4' target='_self'><span>커트라인 점수1</span></a>\n",
    "    <a class=\"jcecodle-mk jcecodle-mk__problem-chip\" data-problem-id=\"Xh2anPOfX_A\" href='#jce-judge/open/Xh2anPOfX_A' target='_self'><span>세트메뉴1</span></a>\n",
    "    <a class=\"jcecodle-mk jcecodle-mk__problem-chip\" data-problem-id=\"nDjxCMg67gY\" href='#jce-judge/open/nDjxCMg67gY' target='_self'><span>평균과 중앙값</span></a>\n",
    "    <a class=\"jcecodle-mk jcecodle-mk__problem-chip\" data-problem-id=\"UpnJPJ2e0iw\" href='#jce-judge/open/UpnJPJ2e0iw' target='_self'><span>이중 정렬1</span></a>\n",
    "</div>"
   ]
  },
  {
   "cell_type": "markdown",
   "id": "486c8e34-cc1e-4432-8625-d27f325cdad5",
   "metadata": {
    "editable": false,
    "tags": []
   },
   "source": [
    "<div style=\"padding: 15px; border: 5px solid transparent; border-color: transparent; margin-bottom: 20px; border-radius: 4px; color: #3c763d; border-color: #d6e9c6; font-weight: bold;\">\n",
    "<h2 style='font-weight: bold'>3. 조건문</h2>\n",
    "</div> "
   ]
  },
  {
   "cell_type": "markdown",
   "id": "e7ff483d-75ed-4d73-9ccb-e85a6b030dc3",
   "metadata": {
    "tags": []
   },
   "source": [
    "<div style=\"padding: 15px; border: 5px solid transparent; border-color: transparent; margin-bottom: 20px; border-radius: 4px; color: #8a6d3b;  border-color: #faebcc;\">\n",
    "    <div style=\"font-weight: bold; font-size: 20px\">💯 연습문제를 풀어봅시다</div>\n",
    "    <br>\n",
    "    <a class=\"jcecodle-mk jcecodle-mk__problem-chip\" data-problem-id=\"Gv0aJ1qKcW0\" href='#jce-judge/open/Gv0aJ1qKcW0' target='_self'><span>윤년판별기</span></a>\n",
    "    <a class=\"jcecodle-mk jcecodle-mk__problem-chip\" data-problem-id=\"yri10BeTBaw\" href='#jce-judge/open/yri10BeTBaw' target='_self'><span>주사위 게임 상금  </span></a>\n",
    "    <a class=\"jcecodle-mk jcecodle-mk__problem-chip\" data-problem-id=\"44XnFT9uMSg\" href='#jce-judge/open/44XnFT9uMSg' target='_self'><span>삼각형 종류   </span></a>\n",
    "</div>"
   ]
  },
  {
   "cell_type": "markdown",
   "id": "d8309d74-a83a-41b6-8a65-91b3b4f9aefe",
   "metadata": {
    "editable": false,
    "tags": []
   },
   "source": [
    "<div style=\"padding: 15px; border: 5px solid transparent; border-color: transparent; margin-bottom: 20px; border-radius: 4px; color: #3c763d; border-color: #d6e9c6; font-weight: bold;\">\n",
    "<h2 style='font-weight: bold'>4. 반복문</h2>\n",
    "</div> "
   ]
  },
  {
   "cell_type": "markdown",
   "id": "e797fd37-4c0f-492e-9354-f2d7b1c56f8b",
   "metadata": {
    "tags": []
   },
   "source": [
    "<div style=\"padding: 15px; border: 5px solid transparent; border-color: transparent; margin-bottom: 20px; border-radius: 4px; color: #8a6d3b;  border-color: #faebcc;\">\n",
    "    <div style=\"font-weight: bold; font-size: 20px\">💯 연습문제를 풀어봅시다</div>\n",
    "    <br>\n",
    "    <a class=\"jcecodle-mk jcecodle-mk__problem-chip\" data-problem-id=\"os0B-4rWSaw\" href='#jce-judge/open/os0B-4rWSaw' target='_self'><span>소수 구하기</span></a>\n",
    "    <a class=\"jcecodle-mk jcecodle-mk__problem-chip\" data-problem-id=\"e2j3X3Gq4mo\" href='#jce-judge/open/e2j3X3Gq4mo' target='_self'><span>대칭</span></a>\n",
    "    <a class=\"jcecodle-mk jcecodle-mk__problem-chip\" data-problem-id=\"2F3_H6qZUL8\" href='#jce-judge/open/2F3_H6qZUL8' target='_self'><span>패턴 출력하기1</span></a>\n",
    "    <a class=\"jcecodle-mk jcecodle-mk__problem-chip\" data-problem-id=\"OuA-0cHsQoM\" href='#jce-judge/open/OuA-0cHsQoM' target='_self'><span>삼각형 출력하기1</span></a>\n",
    "    <a class=\"jcecodle-mk jcecodle-mk__problem-chip\" data-problem-id=\"45I29Ssuo1c\" href='#jce-judge/open/45I29Ssuo1c' target='_self'><span>삼각형 출력하기2</span></a>\n",
    "</div>"
   ]
  },
  {
   "cell_type": "markdown",
   "id": "68e08dcb-8901-4de8-a219-e4be19cb3201",
   "metadata": {
    "editable": false,
    "tags": []
   },
   "source": [
    "<div style=\"padding: 15px; border: 5px solid transparent; border-color: transparent; margin-bottom: 20px; border-radius: 4px; color: #3c763d; border-color: #d6e9c6; font-weight: bold;\">\n",
    "<h2 style='font-weight: bold'>5. 함수</h2>\n",
    "</div> "
   ]
  },
  {
   "cell_type": "markdown",
   "id": "1ae4f05f-e722-45df-899b-1e8a0d7d05f9",
   "metadata": {
    "tags": []
   },
   "source": [
    "<div style=\"padding: 15px; border: 5px solid transparent; border-color: transparent; margin-bottom: 20px; border-radius: 4px; color: #8a6d3b;  border-color: #faebcc;\">\n",
    "    <div style=\"font-weight: bold; font-size: 20px\">💯 연습문제를 풀어봅시다</div>\n",
    "    <br>\n",
    "    <a class=\"jcecodle-mk jcecodle-mk__problem-chip\" data-problem-id=\"3AM8NI5Z7-U\" href='#jce-judge/open/3AM8NI5Z7-U' target='_self'><span>값 찾기(함수)_빈칸</span></a>\n",
    "    <a class=\"jcecodle-mk jcecodle-mk__problem-chip\" data-problem-id=\"1_aprueIsvw\" href='#jce-judge/open/1_aprueIsvw' target='_self'><span>리스트 요소 바꾸기(함수)</span></a>\n",
    "</div>"
   ]
  },
  {
   "cell_type": "markdown",
   "id": "838c94e0-379f-4cf7-97e0-b12f114e1354",
   "metadata": {
    "editable": false,
    "tags": []
   },
   "source": [
    "<div style=\"padding: 15px; border: 5px solid transparent; border-color: transparent; margin-bottom: 20px; border-radius: 4px; color: #3c763d; border-color: #d6e9c6; font-weight: bold;\">\n",
    "<h2 style='font-weight: bold'>6. 모듈</h2>\n",
    "</div> "
   ]
  },
  {
   "cell_type": "markdown",
   "id": "e558caaf-7e13-412f-bcbb-9576f62fca50",
   "metadata": {
    "tags": []
   },
   "source": [
    "<div style=\"padding: 15px; border: 5px solid transparent; border-color: transparent; margin-bottom: 20px; border-radius: 4px; color: #8a6d3b;  border-color: #faebcc;\">\n",
    "    <div style=\"font-weight: bold; font-size: 20px\">💯 연습문제를 풀어봅시다</div>\n",
    "    <br>\n",
    "    <a class=\"jcecodle-mk jcecodle-mk__problem-chip\" data-problem-id=\"gua8tg-N91w\" href='#jce-judge/open/gua8tg-N91w' target='_self'><span>정삼각형 높이_빈칸</span></a>\n",
    "    <a class=\"jcecodle-mk jcecodle-mk__problem-chip\" data-problem-id=\"oV1U1FaZnVg\" href='#jce-judge/open/oV1U1FaZnVg' target='_self'><span>미션: 레드팀vs블루팀(3)</span></a>\n",
    "</div>"
   ]
  }
 ],
 "metadata": {
  "kernelspec": {
   "display_name": "Python 3 (ipykernel)",
   "language": "python",
   "name": "python3"
  },
  "language_info": {
   "codemirror_mode": {
    "name": "ipython",
    "version": 3
   },
   "file_extension": ".py",
   "mimetype": "text/x-python",
   "name": "python",
   "nbconvert_exporter": "python",
   "pygments_lexer": "ipython3",
   "version": "3.11.3"
  },
  "read_only": true
 },
 "nbformat": 4,
 "nbformat_minor": 5
}
